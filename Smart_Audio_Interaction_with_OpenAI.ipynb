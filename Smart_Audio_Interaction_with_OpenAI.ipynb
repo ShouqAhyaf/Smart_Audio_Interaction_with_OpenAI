{
  "nbformat": 4,
  "nbformat_minor": 0,
  "metadata": {
    "colab": {
      "provenance": []
    },
    "kernelspec": {
      "name": "python3",
      "display_name": "Python 3"
    },
    "language_info": {
      "name": "python"
    }
  },
  "cells": [
    {
      "cell_type": "code",
      "source": [
        "pip install pydub"
      ],
      "metadata": {
        "colab": {
          "base_uri": "https://localhost:8080/"
        },
        "id": "k9ewRUY902tZ",
        "outputId": "e7875593-28bb-4f04-98a4-400fbd447a2f"
      },
      "execution_count": 3,
      "outputs": [
        {
          "output_type": "stream",
          "name": "stdout",
          "text": [
            "Collecting pydub\n",
            "  Downloading pydub-0.25.1-py2.py3-none-any.whl.metadata (1.4 kB)\n",
            "Downloading pydub-0.25.1-py2.py3-none-any.whl (32 kB)\n",
            "Installing collected packages: pydub\n",
            "Successfully installed pydub-0.25.1\n"
          ]
        }
      ]
    },
    {
      "cell_type": "code",
      "source": [
        "pip install SpeechRecognition"
      ],
      "metadata": {
        "colab": {
          "base_uri": "https://localhost:8080/"
        },
        "id": "_dBdsNzE096V",
        "outputId": "8ef3d530-a3d6-4705-b150-d6eccfed4d62"
      },
      "execution_count": 5,
      "outputs": [
        {
          "output_type": "stream",
          "name": "stdout",
          "text": [
            "Collecting SpeechRecognition\n",
            "  Downloading SpeechRecognition-3.14.1-py3-none-any.whl.metadata (31 kB)\n",
            "Requirement already satisfied: typing-extensions in /usr/local/lib/python3.11/dist-packages (from SpeechRecognition) (4.12.2)\n",
            "Downloading SpeechRecognition-3.14.1-py3-none-any.whl (32.9 MB)\n",
            "\u001b[2K   \u001b[90m━━━━━━━━━━━━━━━━━━━━━━━━━━━━━━━━━━━━━━━━\u001b[0m \u001b[32m32.9/32.9 MB\u001b[0m \u001b[31m56.8 MB/s\u001b[0m eta \u001b[36m0:00:00\u001b[0m\n",
            "\u001b[?25hInstalling collected packages: SpeechRecognition\n",
            "Successfully installed SpeechRecognition-3.14.1\n"
          ]
        }
      ]
    },
    {
      "cell_type": "code",
      "source": [
        "pip install pyttsx3"
      ],
      "metadata": {
        "colab": {
          "base_uri": "https://localhost:8080/"
        },
        "id": "cMnjdoCq1F5p",
        "outputId": "1a25809d-e0b7-4fd5-d45d-e642d4849826"
      },
      "execution_count": 7,
      "outputs": [
        {
          "output_type": "stream",
          "name": "stdout",
          "text": [
            "Collecting pyttsx3\n",
            "  Downloading pyttsx3-2.98-py3-none-any.whl.metadata (3.8 kB)\n",
            "Downloading pyttsx3-2.98-py3-none-any.whl (34 kB)\n",
            "Installing collected packages: pyttsx3\n",
            "Successfully installed pyttsx3-2.98\n"
          ]
        }
      ]
    },
    {
      "cell_type": "code",
      "execution_count": 10,
      "metadata": {
        "colab": {
          "base_uri": "https://localhost:8080/"
        },
        "id": "BnKDWf920qLp",
        "outputId": "30054a22-00a5-49cf-89e7-59f3aa049689"
      },
      "outputs": [
        {
          "output_type": "stream",
          "name": "stdout",
          "text": [
            "Error converting audio to text: Audio file could not be read as PCM WAV, AIFF/AIFF-C, or Native FLAC; check if file is corrupted or in another format\n",
            "Failed to process the audio file.\n"
          ]
        }
      ],
      "source": [
        "import openai\n",
        "from pydub import AudioSegment\n",
        "from pydub.playback import play\n",
        "import speech_recognition as sr\n",
        "import pyttsx3  # For proper text-to-speech conversion\n",
        "\n",
        "# Set your OpenAI API key\n",
        "openai.api_key = \"sk-your_api_key_here\"  # Make sure to secure your API key\n",
        "\n",
        "# Function to convert audio to text\n",
        "def audio_to_text(file_path):\n",
        "    recognizer = sr.Recognizer()\n",
        "    try:\n",
        "        with sr.AudioFile(file_path) as source:\n",
        "            print(\"Processing audio...\")\n",
        "            audio_data = recognizer.record(source)\n",
        "            text = recognizer.recognize_google(audio_data)\n",
        "            print(f\"Converted Text: {text}\")\n",
        "            return text\n",
        "    except Exception as e:\n",
        "        print(f\"Error converting audio to text: {e}\")\n",
        "        return None\n",
        "\n",
        "# Function to get a response from OpenAI\n",
        "def get_openai_response(prompt):\n",
        "    try:\n",
        "        response = openai.ChatCompletion.create(\n",
        "            model=\"gpt-3.5-turbo\",  # Make sure this is the correct model\n",
        "            messages=[{\"role\": \"system\", \"content\": \"You are a helpful assistant.\"},\n",
        "                      {\"role\": \"user\", \"content\": prompt}]\n",
        "        )\n",
        "        return response['choices'][0]['message']['content']\n",
        "    except Exception as e:\n",
        "        print(f\"Error with OpenAI API: {e}\")\n",
        "        return None\n",
        "\n",
        "# Function to convert text to audio using pyttsx3\n",
        "def text_to_audio(text):\n",
        "    try:\n",
        "        # Use pyttsx3 for text-to-speech conversion\n",
        "        engine = pyttsx3.init()\n",
        "        engine.save_to_file(text, \"response_audio.mp3\")\n",
        "        engine.runAndWait()\n",
        "        print(\"Playing response audio...\")\n",
        "\n",
        "        # Play the audio\n",
        "        audio = AudioSegment.from_file(\"response_audio.mp3\", format=\"mp3\")\n",
        "        play(audio)\n",
        "    except Exception as e:\n",
        "        print(f\"Error generating audio: {e}\")\n",
        "\n",
        "# Main function\n",
        "def main():\n",
        "    # Step 1: Audio input file\n",
        "    audio_file = \"/content/audio_2025-02-16_01-58-49.mp3\"\n",
        "\n",
        "    # Step 2: Convert audio to text\n",
        "    text = audio_to_text(audio_file)\n",
        "\n",
        "    if text:\n",
        "        # Step 3: Send text to OpenAI and get response\n",
        "        ai_response = get_openai_response(text)\n",
        "\n",
        "        if ai_response:\n",
        "            print(f\"AI Response: {ai_response}\")\n",
        "\n",
        "            # Step 4: Convert AI response to audio\n",
        "            text_to_audio(ai_response)\n",
        "        else:\n",
        "            print(\"Failed to get response from OpenAI.\")\n",
        "    else:\n",
        "        print(\"Failed to process the audio file.\")\n",
        "\n",
        "# Run the program\n",
        "if __name__ == \"__main__\":\n",
        "    main()\n"
      ]
    }
  ]
}